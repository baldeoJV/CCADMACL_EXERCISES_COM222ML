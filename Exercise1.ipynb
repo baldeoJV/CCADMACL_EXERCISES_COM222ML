{
  "nbformat": 4,
  "nbformat_minor": 0,
  "metadata": {
    "colab": {
      "provenance": [],
      "include_colab_link": true
    },
    "kernelspec": {
      "name": "python3",
      "display_name": "Python 3"
    },
    "language_info": {
      "name": "python"
    }
  },
  "cells": [
    {
      "cell_type": "markdown",
      "metadata": {
        "id": "view-in-github",
        "colab_type": "text"
      },
      "source": [
        "<a href=\"https://colab.research.google.com/github/thatvernon-yes/CCADMACL_EXERCISES_COM222ML/blob/main/Exercise1.ipynb\" target=\"_parent\"><img src=\"https://colab.research.google.com/assets/colab-badge.svg\" alt=\"Open In Colab\"/></a>"
      ]
    },
    {
      "cell_type": "markdown",
      "source": [
        "# Exercise 1\n",
        "\n",
        "Use all feature selection methods to find the best features"
      ],
      "metadata": {
        "id": "wyguhJBCREPq"
      }
    },
    {
      "cell_type": "markdown",
      "source": [
        "## Dataset Information\n",
        "\n",
        "## Features\n",
        "\n",
        "Number of Instances: 20640\n",
        "\n",
        "Number of Attributes: 8 numeric, predictive attributes and the target\n",
        "\n",
        "Attribute Information:\n",
        "\n",
        "MedInc - median income in block group\n",
        "\n",
        "HouseAge - median house age in block group\n",
        "\n",
        "AveRooms - average number of rooms per household\n",
        "\n",
        "AveBedrms - average number of bedrooms per household\n",
        "\n",
        "Population - block group population\n",
        "\n",
        "AveOccup - average number of household members\n",
        "\n",
        "Latitude - block group latitude\n",
        "\n",
        "Longitude - block group longitude\n",
        "\n",
        "## Target\n",
        "The target variable is the median house value for California districts, expressed in hundreds of thousands of dollars ($100,000)."
      ],
      "metadata": {
        "id": "W1nEzxdXQbpH"
      }
    },
    {
      "cell_type": "markdown",
      "source": [
        "##DATASET"
      ],
      "metadata": {
        "id": "vQB24cBYc0O0"
      }
    },
    {
      "cell_type": "code",
      "execution_count": 259,
      "metadata": {
        "id": "ZAVjjtJ9PVED"
      },
      "outputs": [],
      "source": [
        "from sklearn.datasets import fetch_california_housing\n",
        "from sklearn.feature_selection import VarianceThreshold\n",
        "import pandas as pd"
      ]
    },
    {
      "cell_type": "code",
      "source": [
        "housing = fetch_california_housing(as_frame=True)\n",
        "housing_features = pd.DataFrame(housing.data, columns=housing.feature_names)\n",
        "housing_target = pd.DataFrame(housing, columns=[\"target\"])\n",
        "df = pd.concat([housing_features, housing_target], axis=1)\n"
      ],
      "metadata": {
        "id": "njXYv5EFpvaM"
      },
      "execution_count": 260,
      "outputs": []
    },
    {
      "cell_type": "markdown",
      "source": [
        "###Base Model"
      ],
      "metadata": {
        "id": "xxrC_oGWoWQa"
      }
    },
    {
      "cell_type": "code",
      "source": [
        "from sklearn.linear_model import LinearRegression\n",
        "from sklearn.model_selection import train_test_split\n",
        "from sklearn.metrics import root_mean_squared_error\n",
        "\n",
        "\n",
        "X = df.drop([\"target\"],axis=1)\n",
        "y = df['target']\n",
        "\n",
        "\n",
        "X_train, X_test, y_train, y_test = train_test_split(X, y, test_size=0.50, random_state=42)\n",
        "\n",
        "mlr_model = LinearRegression()\n",
        "\n",
        "mlr_model.fit(X_train, y_train)\n",
        "y_pred = mlr_model.predict(X_train)\n",
        "\n",
        "base = root_mean_squared_error(y_test,y_pred)\n",
        "\n",
        "score_list = {} #for saving score variables into it\n",
        "\n",
        "score_list[\"Base Model\"] = base\n",
        "print(f\"Score is {base,b2}\")"
      ],
      "metadata": {
        "colab": {
          "base_uri": "https://localhost:8080/"
        },
        "id": "phersICVoaHJ",
        "outputId": "fa38e2c7-6f47-4ae0-fcc6-3aa83c36dd0a"
      },
      "execution_count": 261,
      "outputs": [
        {
          "output_type": "stream",
          "name": "stdout",
          "text": [
            "Score is (1.4667070548344803, 2.1512295847012353)\n"
          ]
        }
      ]
    },
    {
      "cell_type": "markdown",
      "source": [
        "##1. Use any filter method to select the best features"
      ],
      "metadata": {
        "id": "6tqvZqTtRgRe"
      }
    },
    {
      "cell_type": "markdown",
      "source": [
        "###Mutual Info Reg"
      ],
      "metadata": {
        "id": "RiOBDhnlkRAk"
      }
    },
    {
      "cell_type": "code",
      "source": [
        "from sklearn.feature_selection import mutual_info_regression\n",
        "\n",
        "threshold = 5  # the number of most relevant features\n",
        "high_score_features = []\n",
        "feature_scores = mutual_info_regression(housing.data, housing.target, random_state=0)"
      ],
      "metadata": {
        "id": "pdXlifnRkPv0"
      },
      "execution_count": 262,
      "outputs": []
    },
    {
      "cell_type": "code",
      "source": [
        "for score, f_name in sorted(zip(feature_scores, housing_features.columns), reverse=True)[:threshold]:\n",
        "        print(f_name, score)\n",
        "        high_score_features.append(f_name)\n",
        "housing_mir = housing_features[high_score_features]"
      ],
      "metadata": {
        "colab": {
          "base_uri": "https://localhost:8080/"
        },
        "id": "JvdxursgkV6l",
        "outputId": "15e028a2-8888-4fb6-c334-f11b2edcdce9"
      },
      "execution_count": 263,
      "outputs": [
        {
          "output_type": "stream",
          "name": "stdout",
          "text": [
            "Longitude 0.4018195828289901\n",
            "MedInc 0.38764599736258987\n",
            "Latitude 0.3706566756286751\n",
            "AveRooms 0.10362300978707584\n",
            "AveOccup 0.07254907984228254\n"
          ]
        }
      ]
    },
    {
      "cell_type": "markdown",
      "source": [
        "###Model using MIR"
      ],
      "metadata": {
        "id": "VXEB0qFln7HU"
      }
    },
    {
      "cell_type": "code",
      "source": [
        "from sklearn.linear_model import LinearRegression\n",
        "from sklearn.model_selection import train_test_split\n",
        "\n",
        "X = df.drop([\"HouseAge\",\"AveBedrms\",\"Population\",\"target\"],axis=1)\n",
        "y = df['target']\n",
        "\n",
        "\n",
        "X_train, X_test, y_train, y_test = train_test_split(X, y, test_size=0.50, random_state=42)\n",
        "\n",
        "mlr_model = LinearRegression()\n",
        "\n",
        "mlr_model.fit(X_train, y_train)\n",
        "y_pred = mlr_model.predict(X_train)\n",
        "\n",
        "filter_mse = root_mean_squared_error(y_test,y_pred)\n",
        "\n",
        "score_list[\"MIR Model\"] = filter_mse\n",
        "print(f\"Score is {filter_mse}\")"
      ],
      "metadata": {
        "colab": {
          "base_uri": "https://localhost:8080/"
        },
        "id": "1ke_5_aLn87M",
        "outputId": "67aec59f-a580-4d5d-9972-09ae147c8da2"
      },
      "execution_count": 264,
      "outputs": [
        {
          "output_type": "stream",
          "name": "stdout",
          "text": [
            "Score is 1.4538265095530913\n"
          ]
        }
      ]
    },
    {
      "cell_type": "markdown",
      "source": [
        "##2. Use any wrapper method to select the best features"
      ],
      "metadata": {
        "id": "eZ5kAdM7RpDD"
      }
    },
    {
      "cell_type": "code",
      "source": [
        "from sklearn.ensemble import RandomForestRegressor\n",
        "from sklearn.feature_selection import RFE\n",
        "\n",
        "threshold = 5 # the number of most relevant features\n",
        "model_rf = RandomForestRegressor(n_estimators=500, random_state=0, max_depth = 3)\n",
        "selector = RFE(model_rf, n_features_to_select=5, step=1)\n",
        "\n",
        "selector = selector.fit(housing.data, housing.target)\n",
        "selector_ind = selector.get_support()\n",
        "housing_wrapper_rfr = housing_features.iloc[:, selector_ind]\n",
        "housing_wrapper_rfr.columns"
      ],
      "metadata": {
        "id": "h1godUPeRpTF",
        "colab": {
          "base_uri": "https://localhost:8080/"
        },
        "outputId": "2a9968a8-c552-4db4-904c-5b5a0d052562"
      },
      "execution_count": 265,
      "outputs": [
        {
          "output_type": "execute_result",
          "data": {
            "text/plain": [
              "Index(['MedInc', 'HouseAge', 'AveRooms', 'AveOccup', 'Latitude'], dtype='object')"
            ]
          },
          "metadata": {},
          "execution_count": 265
        }
      ]
    },
    {
      "cell_type": "markdown",
      "source": [
        "###Wrapper Model"
      ],
      "metadata": {
        "id": "tI0JCSQ2sXF0"
      }
    },
    {
      "cell_type": "code",
      "source": [
        "from sklearn.linear_model import LinearRegression\n",
        "from sklearn.model_selection import train_test_split\n",
        "\n",
        "X = df.drop([\"AveBedrms\",\"Population\",\"Longitude\",\"target\"],axis=1)\n",
        "y = df['target']\n",
        "\n",
        "\n",
        "X_train, X_test, y_train, y_test = train_test_split(X, y, test_size=0.50, random_state=42)\n",
        "\n",
        "mlr_model = LinearRegression()\n",
        "\n",
        "mlr_model.fit(X_train, y_train)\n",
        "y_pred = mlr_model.predict(X_train)\n",
        "\n",
        "wrap_mse = root_mean_squared_error(y_test,y_pred)\n",
        "\n",
        "\n",
        "score_list[\"WRP Model\"] = wrap_mse\n",
        "print(f\"Score is {wrap_mse}\")"
      ],
      "metadata": {
        "colab": {
          "base_uri": "https://localhost:8080/"
        },
        "id": "DbzEmP7osWy9",
        "outputId": "0775ea99-5fb1-4123-87ed-e2263c52f290"
      },
      "execution_count": 266,
      "outputs": [
        {
          "output_type": "stream",
          "name": "stdout",
          "text": [
            "Score is 1.4310636457939558\n"
          ]
        }
      ]
    },
    {
      "cell_type": "markdown",
      "source": [
        "##3. Use any embedded methood to select the best features"
      ],
      "metadata": {
        "id": "Kq82AZxvRvTe"
      }
    },
    {
      "cell_type": "code",
      "source": [
        "from sklearn.feature_selection import SelectFromModel\n",
        "from sklearn.ensemble import RandomForestRegressor\n",
        "\n",
        "\n",
        "model_rf = RandomForestRegressor(n_estimators=500, random_state=0, max_depth = 3)\n",
        "\n",
        "X = df.drop([\"target\"],axis=1)\n",
        "y = df['target']\n",
        "\n",
        "X_train, X_test, y_train, y_test = train_test_split(X, y, test_size=0.50, random_state=42)\n",
        "\n",
        "model_rf.fit(X_train, y_train)\n",
        "\n",
        "sel_sfm = SelectFromModel(model_rf, prefit=True)\n",
        "sel_sfm_index = sel_sfm.get_support()\n",
        "housing_sfm = housing_features.iloc[:, sel_sfm_index]\n",
        "\n",
        "\n",
        "\n",
        "embeded_rmse = root_mean_squared_error(y_test,model_rf.predict(X_test))\n",
        "\n",
        "score_list[\"RFR Model\"] = embeded_rmse\n",
        "print(f\"Score is {embeded_rmse}\")\n",
        "\n",
        ""
      ],
      "metadata": {
        "id": "-S8OQahTRyTM",
        "colab": {
          "base_uri": "https://localhost:8080/"
        },
        "outputId": "f1b6b3b6-7cc2-43b2-bf86-5ea81098f700"
      },
      "execution_count": 267,
      "outputs": [
        {
          "output_type": "stream",
          "name": "stdout",
          "text": [
            "Score is 0.7689261239415338\n"
          ]
        }
      ]
    },
    {
      "cell_type": "code",
      "source": [
        "print(housing_sfm.columns)"
      ],
      "metadata": {
        "colab": {
          "base_uri": "https://localhost:8080/"
        },
        "id": "QKhIb1h73oZu",
        "outputId": "93a6cc79-6254-47b2-9ad2-56cae9bbed86"
      },
      "execution_count": 270,
      "outputs": [
        {
          "output_type": "stream",
          "name": "stdout",
          "text": [
            "Index(['MedInc'], dtype='object')\n"
          ]
        }
      ]
    },
    {
      "cell_type": "markdown",
      "source": [
        "##Scores"
      ],
      "metadata": {
        "id": "BcCPfhxcxcVk"
      }
    },
    {
      "cell_type": "code",
      "source": [
        "score_list = list(score_list.items())\n",
        "\n",
        "for alg,score in score_list:\n",
        "    print(f\"{alg} Score is {str(score)[:6]} \")"
      ],
      "metadata": {
        "colab": {
          "base_uri": "https://localhost:8080/"
        },
        "id": "b2e4FKylxd7x",
        "outputId": "4783e268-d587-414a-c03b-c73ccf2c86e4"
      },
      "execution_count": 269,
      "outputs": [
        {
          "output_type": "stream",
          "name": "stdout",
          "text": [
            "Base Model Score is 1.4667 \n",
            "MIR Model Score is 1.4538 \n",
            "WRP Model Score is 1.4310 \n",
            "RFR Model Score is 0.7689 \n"
          ]
        }
      ]
    }
  ]
}