{
  "nbformat": 4,
  "nbformat_minor": 0,
  "metadata": {
    "colab": {
      "provenance": [],
      "include_colab_link": true
    },
    "kernelspec": {
      "name": "python3",
      "display_name": "Python 3"
    },
    "language_info": {
      "name": "python"
    }
  },
  "cells": [
    {
      "cell_type": "markdown",
      "metadata": {
        "id": "view-in-github",
        "colab_type": "text"
      },
      "source": [
        "<a href=\"https://colab.research.google.com/github/thatvernon-yes/CCMACLRL_EXERCISES_COM222_T2/blob/main/Exercise1.ipynb\" target=\"_parent\"><img src=\"https://colab.research.google.com/assets/colab-badge.svg\" alt=\"Open In Colab\"/></a>"
      ]
    },
    {
      "cell_type": "markdown",
      "source": [
        "# Exercise 1\n",
        "\n",
        "Use all feature selection methods to find the best features"
      ],
      "metadata": {
        "id": "wyguhJBCREPq"
      }
    },
    {
      "cell_type": "markdown",
      "source": [
        "## Dataset Information\n",
        "\n",
        "## Features\n",
        "\n",
        "Number of Instances: 20640\n",
        "\n",
        "Number of Attributes: 8 numeric, predictive attributes and the target\n",
        "\n",
        "Attribute Information:\n",
        "\n",
        "MedInc - median income in block group\n",
        "\n",
        "HouseAge - median house age in block group\n",
        "\n",
        "AveRooms - average number of rooms per household\n",
        "\n",
        "AveBedrms - average number of bedrooms per household\n",
        "\n",
        "Population - block group population\n",
        "\n",
        "AveOccup - average number of household members\n",
        "\n",
        "Latitude - block group latitude\n",
        "\n",
        "Longitude - block group longitude\n",
        "\n",
        "## Target\n",
        "The target variable is the median house value for California districts, expressed in hundreds of thousands of dollars ($100,000)."
      ],
      "metadata": {
        "id": "W1nEzxdXQbpH"
      }
    },
    {
      "cell_type": "markdown",
      "source": [
        "##DATASET"
      ],
      "metadata": {
        "id": "vQB24cBYc0O0"
      }
    },
    {
      "cell_type": "code",
      "execution_count": 247,
      "metadata": {
        "id": "ZAVjjtJ9PVED"
      },
      "outputs": [],
      "source": [
        "from sklearn.datasets import fetch_california_housing\n",
        "from sklearn.feature_selection import VarianceThreshold\n",
        "import pandas as pd"
      ]
    },
    {
      "cell_type": "code",
      "source": [
        "housing = fetch_california_housing(as_frame=True)\n",
        "housing_features = pd.DataFrame(housing.data, columns=housing.feature_names)\n",
        "housing_target = pd.DataFrame(housing, columns=[\"target\"])\n",
        "df = pd.concat([housing_features, housing_target], axis=1)\n"
      ],
      "metadata": {
        "id": "njXYv5EFpvaM"
      },
      "execution_count": 248,
      "outputs": []
    },
    {
      "cell_type": "markdown",
      "source": [
        "###Base Model"
      ],
      "metadata": {
        "id": "xxrC_oGWoWQa"
      }
    },
    {
      "cell_type": "code",
      "source": [
        "from sklearn.linear_model import LinearRegression\n",
        "from sklearn.model_selection import train_test_split\n",
        "from sklearn.metrics import root_mean_squared_error\n",
        "\n",
        "\n",
        "X = df.drop([\"target\"],axis=1)\n",
        "y = df['target']\n",
        "\n",
        "\n",
        "X_train, X_test, y_train, y_test = train_test_split(X, y, test_size=0.50, random_state=42)\n",
        "\n",
        "mlr_model = LinearRegression()\n",
        "\n",
        "mlr_model.fit(X_train, y_train)\n",
        "y_pred = mlr_model.predict(X_train)\n",
        "\n",
        "base = root_mean_squared_error(y_test,y_pred)\n",
        "\n",
        "score_list = {} #for saving score variables into it\n",
        "\n",
        "score_list[\"Base Model\"] = base\n",
        "print(f\"Score is {base,b2}\")"
      ],
      "metadata": {
        "colab": {
          "base_uri": "https://localhost:8080/"
        },
        "id": "phersICVoaHJ",
        "outputId": "a3b49da1-d09d-41de-a39d-b05a71bf6394"
      },
      "execution_count": 249,
      "outputs": [
        {
          "output_type": "stream",
          "name": "stdout",
          "text": [
            "Score is (1.4667070548344803, 2.1512295847012353)\n"
          ]
        }
      ]
    },
    {
      "cell_type": "markdown",
      "source": [
        "##1. Use any filter method to select the best features"
      ],
      "metadata": {
        "id": "6tqvZqTtRgRe"
      }
    },
    {
      "cell_type": "markdown",
      "source": [
        "###Mutual Info Reg"
      ],
      "metadata": {
        "id": "RiOBDhnlkRAk"
      }
    },
    {
      "cell_type": "code",
      "source": [
        "from sklearn.feature_selection import mutual_info_regression\n",
        "\n",
        "threshold = 5  # the number of most relevant features\n",
        "high_score_features = []\n",
        "feature_scores = mutual_info_regression(housing.data, housing.target, random_state=0)"
      ],
      "metadata": {
        "id": "pdXlifnRkPv0"
      },
      "execution_count": 250,
      "outputs": []
    },
    {
      "cell_type": "code",
      "source": [
        "for score, f_name in sorted(zip(feature_scores, housing_features.columns), reverse=True)[:threshold]:\n",
        "        print(f_name, score)\n",
        "        high_score_features.append(f_name)\n",
        "housing_mir = housing_features[high_score_features]"
      ],
      "metadata": {
        "colab": {
          "base_uri": "https://localhost:8080/"
        },
        "id": "JvdxursgkV6l",
        "outputId": "1e16bb1a-f1ec-42ac-8376-26f78be6c8d6"
      },
      "execution_count": 251,
      "outputs": [
        {
          "output_type": "stream",
          "name": "stdout",
          "text": [
            "Longitude 0.4018195828289901\n",
            "MedInc 0.38764599736258987\n",
            "Latitude 0.3706566756286751\n",
            "AveRooms 0.10362300978707584\n",
            "AveOccup 0.07254907984228254\n"
          ]
        }
      ]
    },
    {
      "cell_type": "markdown",
      "source": [
        "###Model using MIR"
      ],
      "metadata": {
        "id": "VXEB0qFln7HU"
      }
    },
    {
      "cell_type": "code",
      "source": [
        "from sklearn.linear_model import LinearRegression\n",
        "from sklearn.model_selection import train_test_split\n",
        "\n",
        "X = df.drop([\"HouseAge\",\"AveBedrms\",\"Population\",\"target\"],axis=1)\n",
        "y = df['target']\n",
        "\n",
        "\n",
        "X_train, X_test, y_train, y_test = train_test_split(X, y, test_size=0.50, random_state=42)\n",
        "\n",
        "mlr_model = LinearRegression()\n",
        "\n",
        "mlr_model.fit(X_train, y_train)\n",
        "y_pred = mlr_model.predict(X_train)\n",
        "\n",
        "filter_mse = root_mean_squared_error(y_test,y_pred)\n",
        "\n",
        "score_list[\"MIR Model\"] = filter_mse\n",
        "print(f\"Score is {filter_mse}\")"
      ],
      "metadata": {
        "colab": {
          "base_uri": "https://localhost:8080/"
        },
        "id": "1ke_5_aLn87M",
        "outputId": "b45197e0-f9d5-4e03-aa5e-ea4e5fe1952c"
      },
      "execution_count": 252,
      "outputs": [
        {
          "output_type": "stream",
          "name": "stdout",
          "text": [
            "Score is 1.4538265095530913\n"
          ]
        }
      ]
    },
    {
      "cell_type": "markdown",
      "source": [
        "##2. Use any wrapper method to select the best features"
      ],
      "metadata": {
        "id": "eZ5kAdM7RpDD"
      }
    },
    {
      "cell_type": "code",
      "source": [
        "from sklearn.ensemble import RandomForestRegressor\n",
        "from sklearn.feature_selection import RFE\n",
        "\n",
        "threshold = 5 # the number of most relevant features\n",
        "model_rf = RandomForestRegressor(n_estimators=500, random_state=0, max_depth = 3)\n",
        "selector = RFE(model_rf, n_features_to_select=5, step=1)\n",
        "\n",
        "selector = selector.fit(housing.data, housing.target)\n",
        "selector_ind = selector.get_support()\n",
        "housing_wrapper_rfr = housing_features.iloc[:, selector_ind]\n",
        "housing_wrapper_rfr.columns"
      ],
      "metadata": {
        "id": "h1godUPeRpTF",
        "colab": {
          "base_uri": "https://localhost:8080/"
        },
        "outputId": "35e32f34-3ac6-410e-8f49-a01ff8570b73"
      },
      "execution_count": 253,
      "outputs": [
        {
          "output_type": "execute_result",
          "data": {
            "text/plain": [
              "Index(['MedInc', 'HouseAge', 'AveRooms', 'AveOccup', 'Latitude'], dtype='object')"
            ]
          },
          "metadata": {},
          "execution_count": 253
        }
      ]
    },
    {
      "cell_type": "markdown",
      "source": [
        "###Wrapper Model"
      ],
      "metadata": {
        "id": "tI0JCSQ2sXF0"
      }
    },
    {
      "cell_type": "code",
      "source": [
        "from sklearn.linear_model import LinearRegression\n",
        "from sklearn.model_selection import train_test_split\n",
        "\n",
        "X = df.drop([\"AveBedrms\",\"Population\",\"Longitude\",\"target\"],axis=1)\n",
        "y = df['target']\n",
        "\n",
        "\n",
        "X_train, X_test, y_train, y_test = train_test_split(X, y, test_size=0.50, random_state=42)\n",
        "\n",
        "mlr_model = LinearRegression()\n",
        "\n",
        "mlr_model.fit(X_train, y_train)\n",
        "y_pred = mlr_model.predict(X_train)\n",
        "\n",
        "wrap_mse = root_mean_squared_error(y_test,y_pred)\n",
        "\n",
        "\n",
        "score_list[\"WRP Model\"] = wrap_mse\n",
        "print(f\"Score is {wrap_mse}\")"
      ],
      "metadata": {
        "colab": {
          "base_uri": "https://localhost:8080/"
        },
        "id": "DbzEmP7osWy9",
        "outputId": "b1c5086c-c252-469a-9bb7-1074f597473e"
      },
      "execution_count": 254,
      "outputs": [
        {
          "output_type": "stream",
          "name": "stdout",
          "text": [
            "Score is 1.4310636457939558\n"
          ]
        }
      ]
    },
    {
      "cell_type": "markdown",
      "source": [
        "##3. Use any embedded methood to select the best features"
      ],
      "metadata": {
        "id": "Kq82AZxvRvTe"
      }
    },
    {
      "cell_type": "code",
      "source": [
        "from sklearn.feature_selection import SelectFromModel\n",
        "from sklearn.ensemble import RandomForestRegressor\n",
        "\n",
        "\n",
        "model_rf = RandomForestRegressor(n_estimators=500, random_state=0, max_depth = 3)\n",
        "model_rf.fit(housing.data,housing.target)\n",
        "\n",
        "sel_sfm = SelectFromModel(model_rf, prefit=True)\n",
        "sel_sfm_index = sel_sfm.get_support()\n",
        "housing_sfm = housing_features.iloc[:, sel_sfm_index]\n",
        "housing_sfm.columns\n",
        ""
      ],
      "metadata": {
        "id": "-S8OQahTRyTM",
        "colab": {
          "base_uri": "https://localhost:8080/"
        },
        "outputId": "1c1a9f74-5cf7-461b-e3bc-0b1a1a8023b8"
      },
      "execution_count": 255,
      "outputs": [
        {
          "output_type": "execute_result",
          "data": {
            "text/plain": [
              "Index(['MedInc', 'AveOccup'], dtype='object')"
            ]
          },
          "metadata": {},
          "execution_count": 255
        }
      ]
    },
    {
      "cell_type": "code",
      "source": [
        "from sklearn.model_selection import train_test_split\n",
        "\n",
        "X = df.drop([\"target\"],axis=1)\n",
        "y = df['target']\n",
        "\n",
        "X_train, X_test, y_train, y_test = train_test_split(X, y, test_size=0.50, random_state=42)\n",
        "\n",
        "model_rf = RandomForestRegressor(n_estimators=500, random_state=0, max_depth = 3)\n",
        "model_rf.fit(X_train,y_train)\n",
        "\n",
        "embeded_rmse = root_mean_squared_error(y_test,model_rf.predict(X_test))\n",
        "\n",
        "\n",
        "score_list[\"RFR Model\"] = embeded_rmse\n",
        "print(f\"Score is {embeded_rmse}\")\n"
      ],
      "metadata": {
        "colab": {
          "base_uri": "https://localhost:8080/"
        },
        "id": "JnUjzfkpstPf",
        "outputId": "7c0980a7-d480-4bfb-a0bc-1bd0bed397b8"
      },
      "execution_count": 256,
      "outputs": [
        {
          "output_type": "stream",
          "name": "stdout",
          "text": [
            "Score is 0.7689261239415338\n"
          ]
        }
      ]
    },
    {
      "cell_type": "markdown",
      "source": [
        "##Scores"
      ],
      "metadata": {
        "id": "BcCPfhxcxcVk"
      }
    },
    {
      "cell_type": "code",
      "source": [
        "score_list = list(score_list.items())\n",
        "\n",
        "for alg,score in score_list:\n",
        "    print(f\"{alg} Score is {str(score)[:6]} \")"
      ],
      "metadata": {
        "colab": {
          "base_uri": "https://localhost:8080/"
        },
        "id": "b2e4FKylxd7x",
        "outputId": "16ecb33b-9f48-4259-ee0b-f7d6bcb97e9d"
      },
      "execution_count": 257,
      "outputs": [
        {
          "output_type": "stream",
          "name": "stdout",
          "text": [
            "Base Model Score is 1.4667 \n",
            "MIR Model Score is 1.4538 \n",
            "WRP Model Score is 1.4310 \n",
            "RFR Model Score is 0.7689 \n"
          ]
        }
      ]
    }
  ]
}